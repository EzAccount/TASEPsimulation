{
  "nbformat": 4,
  "nbformat_minor": 0,
  "metadata": {
    "colab": {
      "name": "TasepCylinder.ipynb",
      "provenance": [],
      "collapsed_sections": [],
      "authorship_tag": "ABX9TyM9+L83vg6q310eeTfjWE0S",
      "include_colab_link": true
    },
    "kernelspec": {
      "name": "python3",
      "display_name": "Python 3"
    },
    "language_info": {
      "name": "python"
    }
  },
  "cells": [
    {
      "cell_type": "markdown",
      "metadata": {
        "id": "view-in-github",
        "colab_type": "text"
      },
      "source": [
        "<a href=\"https://colab.research.google.com/github/EzAccount/TASEPsimulation/blob/main/TasepCylinder.ipynb\" target=\"_parent\"><img src=\"https://colab.research.google.com/assets/colab-badge.svg\" alt=\"Open In Colab\"/></a>"
      ]
    },
    {
      "cell_type": "code",
      "metadata": {
        "id": "BGwNzN5xgriw"
      },
      "source": [
        "import numpy as np"
      ],
      "execution_count": null,
      "outputs": []
    },
    {
      "cell_type": "code",
      "metadata": {
        "id": "QD3ja2r-jm1E"
      },
      "source": [
        "n = 1000 # Number of particles on the main circle\n",
        "k = 10 # Number of layers on vertical axis"
      ],
      "execution_count": null,
      "outputs": []
    },
    {
      "cell_type": "code",
      "metadata": {
        "id": "VA2jey2ihSNO"
      },
      "source": [
        "Particles = numpy.ones((k, n)) # \n",
        "\n",
        "for i in range(0, k):\n",
        "  for j in range(0,n):\n",
        "    if (j > n/2): Particles[i,j] = 0\n",
        "\n",
        "WaitTime = numpy.zeros((n,2)) # \n",
        "t = 0 # global time\n",
        "\n",
        "for i in range(0, n):\n",
        "    WaitTime[i] = np.sort(numpy.random.exponential(1.), numpy.random.exponential(1.))"
      ],
      "execution_count": null,
      "outputs": []
    },
    {
      "cell_type": "code",
      "metadata": {
        "id": "Zr2HtnFehrRt"
      },
      "source": [
        "def whichParticle():\n",
        "    lowestTimeIndex = np.argmin(WaitTime[:][0]) # which particle moves first\n",
        "    dt = WaitTime[lowestTimeIndex]\n",
        "    t += dt # Global time step\n",
        "    for i in xrange(0,n):\n",
        "        WaitTime[i] -= [dt, dt] # Local wait time step\n",
        "    WaitTime[lowestTimeIndex][0] = numpy.random.exponential(1.) # New exponential clock for particle that jumps\n",
        "    return lowestTimeIndex"
      ],
      "execution_count": null,
      "outputs": []
    },
    {
      "cell_type": "code",
      "metadata": {
        "id": "Nlb0GqLrjFiV"
      },
      "source": [
        "def jump(jumpIndex, jumpLayer):\n",
        "  \n",
        "    \n"
      ],
      "execution_count": null,
      "outputs": []
    }
  ]
}